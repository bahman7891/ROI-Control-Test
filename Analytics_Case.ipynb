{
 "cells": [
  {
   "cell_type": "markdown",
   "metadata": {},
   "source": [
    "## Analytics Case Solution\n",
    "\n",
    "### Bahman Roostaei"
   ]
  },
  {
   "cell_type": "code",
   "execution_count": 1,
   "metadata": {
    "collapsed": true
   },
   "outputs": [],
   "source": [
    "import pandas as pd\n",
    "import numpy as np\n",
    "import matplotlib.pyplot as plt\n",
    "%matplotlib inline\n",
    "from datetime import datetime"
   ]
  },
  {
   "cell_type": "code",
   "execution_count": 2,
   "metadata": {
    "collapsed": false
   },
   "outputs": [],
   "source": [
    "data = pd.read_csv('all_users.csv')"
   ]
  },
  {
   "cell_type": "code",
   "execution_count": 3,
   "metadata": {
    "collapsed": false
   },
   "outputs": [
    {
     "data": {
      "text/plain": [
       "(51544, 5)"
      ]
     },
     "execution_count": 3,
     "metadata": {},
     "output_type": "execute_result"
    }
   ],
   "source": [
    "data.shape"
   ]
  },
  {
   "cell_type": "code",
   "execution_count": 4,
   "metadata": {
    "collapsed": true
   },
   "outputs": [],
   "source": [
    "data_redm = pd.read_csv('Redeemers.csv')"
   ]
  },
  {
   "cell_type": "markdown",
   "metadata": {},
   "source": [
    "#### Data imported from excel sheet:"
   ]
  },
  {
   "cell_type": "markdown",
   "metadata": {},
   "source": [
    "#### The non-redeemer and control:"
   ]
  },
  {
   "cell_type": "code",
   "execution_count": 5,
   "metadata": {
    "collapsed": false
   },
   "outputs": [
    {
     "data": {
      "text/html": [
       "<div>\n",
       "<table border=\"1\" class=\"dataframe\">\n",
       "  <thead>\n",
       "    <tr style=\"text-align: right;\">\n",
       "      <th></th>\n",
       "      <th>User ID</th>\n",
       "      <th>Group</th>\n",
       "      <th>Week</th>\n",
       "      <th>Spend</th>\n",
       "      <th>Purchases</th>\n",
       "    </tr>\n",
       "  </thead>\n",
       "  <tbody>\n",
       "    <tr>\n",
       "      <th>15161</th>\n",
       "      <td>1032626</td>\n",
       "      <td>Test</td>\n",
       "      <td>11/10/14</td>\n",
       "      <td>$\\t7.39</td>\n",
       "      <td>1</td>\n",
       "    </tr>\n",
       "    <tr>\n",
       "      <th>35912</th>\n",
       "      <td>117131505</td>\n",
       "      <td>Test</td>\n",
       "      <td>1/5/15</td>\n",
       "      <td>$\\t24.45</td>\n",
       "      <td>4</td>\n",
       "    </tr>\n",
       "    <tr>\n",
       "      <th>15409</th>\n",
       "      <td>67015429</td>\n",
       "      <td>Test</td>\n",
       "      <td>11/10/14</td>\n",
       "      <td>$\\t1,039.87</td>\n",
       "      <td>6</td>\n",
       "    </tr>\n",
       "    <tr>\n",
       "      <th>51186</th>\n",
       "      <td>281071797</td>\n",
       "      <td>Test</td>\n",
       "      <td>2/23/15</td>\n",
       "      <td>$\\t503.66</td>\n",
       "      <td>16</td>\n",
       "    </tr>\n",
       "    <tr>\n",
       "      <th>1697</th>\n",
       "      <td>168806092</td>\n",
       "      <td>Test</td>\n",
       "      <td>10/6/14</td>\n",
       "      <td>$\\t17.67</td>\n",
       "      <td>2</td>\n",
       "    </tr>\n",
       "  </tbody>\n",
       "</table>\n",
       "</div>"
      ],
      "text/plain": [
       "         User ID Group      Week          Spend  Purchases\n",
       "15161    1032626  Test  11/10/14       $\\t7.39           1\n",
       "35912  117131505  Test    1/5/15      $\\t24.45           4\n",
       "15409   67015429  Test  11/10/14   $\\t1,039.87           6\n",
       "51186  281071797  Test   2/23/15     $\\t503.66          16\n",
       "1697   168806092  Test   10/6/14      $\\t17.67           2"
      ]
     },
     "execution_count": 5,
     "metadata": {},
     "output_type": "execute_result"
    }
   ],
   "source": [
    "data.sample(frac=1).head()"
   ]
  },
  {
   "cell_type": "markdown",
   "metadata": {},
   "source": [
    "#### The size of data:"
   ]
  },
  {
   "cell_type": "code",
   "execution_count": 6,
   "metadata": {
    "collapsed": false
   },
   "outputs": [
    {
     "data": {
      "text/plain": [
       "(51544, 5)"
      ]
     },
     "execution_count": 6,
     "metadata": {},
     "output_type": "execute_result"
    }
   ],
   "source": [
    "data.shape"
   ]
  },
  {
   "cell_type": "markdown",
   "metadata": {},
   "source": [
    "#### The redeemers:"
   ]
  },
  {
   "cell_type": "code",
   "execution_count": 7,
   "metadata": {
    "collapsed": false
   },
   "outputs": [
    {
     "data": {
      "text/html": [
       "<div>\n",
       "<table border=\"1\" class=\"dataframe\">\n",
       "  <thead>\n",
       "    <tr style=\"text-align: right;\">\n",
       "      <th></th>\n",
       "      <th>User ID</th>\n",
       "    </tr>\n",
       "  </thead>\n",
       "  <tbody>\n",
       "    <tr>\n",
       "      <th>0</th>\n",
       "      <td>122349</td>\n",
       "    </tr>\n",
       "    <tr>\n",
       "      <th>1</th>\n",
       "      <td>799706</td>\n",
       "    </tr>\n",
       "    <tr>\n",
       "      <th>2</th>\n",
       "      <td>1032626</td>\n",
       "    </tr>\n",
       "    <tr>\n",
       "      <th>3</th>\n",
       "      <td>3535542</td>\n",
       "    </tr>\n",
       "    <tr>\n",
       "      <th>4</th>\n",
       "      <td>4369508</td>\n",
       "    </tr>\n",
       "  </tbody>\n",
       "</table>\n",
       "</div>"
      ],
      "text/plain": [
       "   User ID\n",
       "0   122349\n",
       "1   799706\n",
       "2  1032626\n",
       "3  3535542\n",
       "4  4369508"
      ]
     },
     "execution_count": 7,
     "metadata": {},
     "output_type": "execute_result"
    }
   ],
   "source": [
    "data_redm.head()"
   ]
  },
  {
   "cell_type": "markdown",
   "metadata": {},
   "source": [
    "#### The size of redeemer data:"
   ]
  },
  {
   "cell_type": "code",
   "execution_count": 8,
   "metadata": {
    "collapsed": false
   },
   "outputs": [
    {
     "data": {
      "text/plain": [
       "(804, 1)"
      ]
     },
     "execution_count": 8,
     "metadata": {},
     "output_type": "execute_result"
    }
   ],
   "source": [
    "data_redm.shape"
   ]
  },
  {
   "cell_type": "markdown",
   "metadata": {},
   "source": [
    "### 1. Append a new column to the data in 'All Users' that identifies which buyers in the Test group were Redeemers and which were Non-Redeemers.\t\t\t\t\t\t\t\t\t\t\t\t\t\t"
   ]
  },
  {
   "cell_type": "code",
   "execution_count": 9,
   "metadata": {
    "collapsed": true
   },
   "outputs": [],
   "source": [
    "data_redm['Redeemer'] = ['1' for _ in range(data_redm.shape[0])]"
   ]
  },
  {
   "cell_type": "code",
   "execution_count": 10,
   "metadata": {
    "collapsed": false
   },
   "outputs": [
    {
     "data": {
      "text/html": [
       "<div>\n",
       "<table border=\"1\" class=\"dataframe\">\n",
       "  <thead>\n",
       "    <tr style=\"text-align: right;\">\n",
       "      <th></th>\n",
       "      <th>User ID</th>\n",
       "      <th>Redeemer</th>\n",
       "    </tr>\n",
       "  </thead>\n",
       "  <tbody>\n",
       "    <tr>\n",
       "      <th>0</th>\n",
       "      <td>122349</td>\n",
       "      <td>1</td>\n",
       "    </tr>\n",
       "    <tr>\n",
       "      <th>1</th>\n",
       "      <td>799706</td>\n",
       "      <td>1</td>\n",
       "    </tr>\n",
       "    <tr>\n",
       "      <th>2</th>\n",
       "      <td>1032626</td>\n",
       "      <td>1</td>\n",
       "    </tr>\n",
       "    <tr>\n",
       "      <th>3</th>\n",
       "      <td>3535542</td>\n",
       "      <td>1</td>\n",
       "    </tr>\n",
       "    <tr>\n",
       "      <th>4</th>\n",
       "      <td>4369508</td>\n",
       "      <td>1</td>\n",
       "    </tr>\n",
       "  </tbody>\n",
       "</table>\n",
       "</div>"
      ],
      "text/plain": [
       "   User ID Redeemer\n",
       "0   122349        1\n",
       "1   799706        1\n",
       "2  1032626        1\n",
       "3  3535542        1\n",
       "4  4369508        1"
      ]
     },
     "execution_count": 10,
     "metadata": {},
     "output_type": "execute_result"
    }
   ],
   "source": [
    "data_redm.head()"
   ]
  },
  {
   "cell_type": "code",
   "execution_count": 11,
   "metadata": {
    "collapsed": false
   },
   "outputs": [],
   "source": [
    "left = data.set_index('User ID')"
   ]
  },
  {
   "cell_type": "code",
   "execution_count": 12,
   "metadata": {
    "collapsed": true
   },
   "outputs": [],
   "source": [
    "right = data_redm.set_index('User ID')"
   ]
  },
  {
   "cell_type": "code",
   "execution_count": 13,
   "metadata": {
    "collapsed": false
   },
   "outputs": [],
   "source": [
    "df = left.join(right, how='outer')"
   ]
  },
  {
   "cell_type": "markdown",
   "metadata": {},
   "source": [
    "#### df index is now the User ID:"
   ]
  },
  {
   "cell_type": "code",
   "execution_count": 18,
   "metadata": {
    "collapsed": false
   },
   "outputs": [
    {
     "name": "stdout",
     "output_type": "stream",
     "text": [
      "<class 'pandas.core.frame.DataFrame'>\n",
      "Int64Index: 51544 entries, 122349 to 708982961\n",
      "Data columns (total 5 columns):\n",
      "Group        51544 non-null object\n",
      "Week         51544 non-null object\n",
      "Spend        51544 non-null object\n",
      "Purchases    51544 non-null int64\n",
      "Redeemer     11099 non-null object\n",
      "dtypes: int64(1), object(4)\n",
      "memory usage: 2.4+ MB\n"
     ]
    }
   ],
   "source": [
    "df.info()"
   ]
  },
  {
   "cell_type": "markdown",
   "metadata": {},
   "source": [
    "#### We already know there is no missing data in the previous dataframe so it is safe to assumethat all nan's come from merging. They are the non-redeemers."
   ]
  },
  {
   "cell_type": "code",
   "execution_count": 19,
   "metadata": {
    "collapsed": false
   },
   "outputs": [],
   "source": [
    "df = df.fillna('0')"
   ]
  },
  {
   "cell_type": "markdown",
   "metadata": {},
   "source": [
    "#### Check to see if the number of rows is not changed."
   ]
  },
  {
   "cell_type": "code",
   "execution_count": 20,
   "metadata": {
    "collapsed": false
   },
   "outputs": [
    {
     "data": {
      "text/plain": [
       "True"
      ]
     },
     "execution_count": 20,
     "metadata": {},
     "output_type": "execute_result"
    }
   ],
   "source": [
    "data.shape[0] == df.shape[0]"
   ]
  },
  {
   "cell_type": "markdown",
   "metadata": {},
   "source": [
    "#### Looking at data again:"
   ]
  },
  {
   "cell_type": "code",
   "execution_count": 21,
   "metadata": {
    "collapsed": false
   },
   "outputs": [
    {
     "data": {
      "text/html": [
       "<div>\n",
       "<table border=\"1\" class=\"dataframe\">\n",
       "  <thead>\n",
       "    <tr style=\"text-align: right;\">\n",
       "      <th></th>\n",
       "      <th>Group</th>\n",
       "      <th>Week</th>\n",
       "      <th>Spend</th>\n",
       "      <th>Purchases</th>\n",
       "      <th>Redeemer</th>\n",
       "    </tr>\n",
       "    <tr>\n",
       "      <th>User ID</th>\n",
       "      <th></th>\n",
       "      <th></th>\n",
       "      <th></th>\n",
       "      <th></th>\n",
       "      <th></th>\n",
       "    </tr>\n",
       "  </thead>\n",
       "  <tbody>\n",
       "    <tr>\n",
       "      <th>82458841</th>\n",
       "      <td>Test</td>\n",
       "      <td>12/15/14</td>\n",
       "      <td>$\\t13.03</td>\n",
       "      <td>2</td>\n",
       "      <td>1</td>\n",
       "    </tr>\n",
       "    <tr>\n",
       "      <th>134635232</th>\n",
       "      <td>Test</td>\n",
       "      <td>10/13/14</td>\n",
       "      <td>$\\t45.12</td>\n",
       "      <td>1</td>\n",
       "      <td>1</td>\n",
       "    </tr>\n",
       "    <tr>\n",
       "      <th>54827758</th>\n",
       "      <td>Control</td>\n",
       "      <td>2/9/15</td>\n",
       "      <td>$\\t15.85</td>\n",
       "      <td>3</td>\n",
       "      <td>0</td>\n",
       "    </tr>\n",
       "    <tr>\n",
       "      <th>74937040</th>\n",
       "      <td>Control</td>\n",
       "      <td>10/6/14</td>\n",
       "      <td>$\\t10.78</td>\n",
       "      <td>2</td>\n",
       "      <td>0</td>\n",
       "    </tr>\n",
       "    <tr>\n",
       "      <th>295543622</th>\n",
       "      <td>Control</td>\n",
       "      <td>2/16/15</td>\n",
       "      <td>$\\t58.91</td>\n",
       "      <td>3</td>\n",
       "      <td>0</td>\n",
       "    </tr>\n",
       "    <tr>\n",
       "      <th>334534205</th>\n",
       "      <td>Test</td>\n",
       "      <td>12/15/14</td>\n",
       "      <td>$\\t44.16</td>\n",
       "      <td>4</td>\n",
       "      <td>0</td>\n",
       "    </tr>\n",
       "    <tr>\n",
       "      <th>54675498</th>\n",
       "      <td>Control</td>\n",
       "      <td>10/13/14</td>\n",
       "      <td>$\\t226.07</td>\n",
       "      <td>5</td>\n",
       "      <td>0</td>\n",
       "    </tr>\n",
       "    <tr>\n",
       "      <th>269465574</th>\n",
       "      <td>Control</td>\n",
       "      <td>11/17/14</td>\n",
       "      <td>$\\t25.39</td>\n",
       "      <td>1</td>\n",
       "      <td>0</td>\n",
       "    </tr>\n",
       "    <tr>\n",
       "      <th>45881180</th>\n",
       "      <td>Test</td>\n",
       "      <td>1/12/15</td>\n",
       "      <td>$\\t15.85</td>\n",
       "      <td>1</td>\n",
       "      <td>1</td>\n",
       "    </tr>\n",
       "    <tr>\n",
       "      <th>238452247</th>\n",
       "      <td>Test</td>\n",
       "      <td>12/8/14</td>\n",
       "      <td>$\\t756.05</td>\n",
       "      <td>5</td>\n",
       "      <td>0</td>\n",
       "    </tr>\n",
       "  </tbody>\n",
       "</table>\n",
       "</div>"
      ],
      "text/plain": [
       "             Group      Week        Spend  Purchases Redeemer\n",
       "User ID                                                      \n",
       "82458841      Test  12/15/14    $\\t13.03           2        1\n",
       "134635232     Test  10/13/14    $\\t45.12           1        1\n",
       "54827758   Control    2/9/15    $\\t15.85           3        0\n",
       "74937040   Control   10/6/14    $\\t10.78           2        0\n",
       "295543622  Control   2/16/15    $\\t58.91           3        0\n",
       "334534205     Test  12/15/14    $\\t44.16           4        0\n",
       "54675498   Control  10/13/14   $\\t226.07           5        0\n",
       "269465574  Control  11/17/14    $\\t25.39           1        0\n",
       "45881180      Test   1/12/15    $\\t15.85           1        1\n",
       "238452247     Test   12/8/14   $\\t756.05           5        0"
      ]
     },
     "execution_count": 21,
     "metadata": {},
     "output_type": "execute_result"
    }
   ],
   "source": [
    "df.sample(frac=1).head(10)"
   ]
  },
  {
   "cell_type": "markdown",
   "metadata": {},
   "source": [
    "### 2. For each group (Control, Test-Redeemers, Test-NonRedeemers), show how spend varied over the 12 week period between 24th November 14 and 9th February 15 (from 6 weeks before the coupon 'drop date' to 6 weeks after). Graphical results are always welcome!\t\n",
    "\t\t\t\t\t\t\t\t\t\t\t\t\t\t\t"
   ]
  },
  {
   "cell_type": "markdown",
   "metadata": {},
   "source": [
    "#### Add a column that contains the datetime format:\n"
   ]
  },
  {
   "cell_type": "code",
   "execution_count": 22,
   "metadata": {
    "collapsed": false
   },
   "outputs": [],
   "source": [
    "df['week_date'] = df.Week.apply(lambda x:datetime.strptime(x,'%m/%d/%y'))"
   ]
  },
  {
   "cell_type": "markdown",
   "metadata": {},
   "source": [
    "#### Extracting only test redeemers:\n"
   ]
  },
  {
   "cell_type": "code",
   "execution_count": 23,
   "metadata": {
    "collapsed": true
   },
   "outputs": [],
   "source": [
    "df_testredm = df[(df['Group']== 'Test') &\n",
    "                 (df['Redeemer'] == '1')]"
   ]
  },
  {
   "cell_type": "markdown",
   "metadata": {},
   "source": [
    "#### Exctracting only test non-redeemers:\n"
   ]
  },
  {
   "cell_type": "code",
   "execution_count": 24,
   "metadata": {
    "collapsed": true
   },
   "outputs": [],
   "source": [
    "df_testnonredm = df[(df['Group']== 'Test') &\n",
    "                    (df['Redeemer'] == '0')]"
   ]
  },
  {
   "cell_type": "markdown",
   "metadata": {},
   "source": [
    "#### Extracting only controls :\n"
   ]
  },
  {
   "cell_type": "code",
   "execution_count": 25,
   "metadata": {
    "collapsed": true
   },
   "outputs": [],
   "source": [
    "df_control = df[df['Group']== 'Control']"
   ]
  },
  {
   "cell_type": "code",
   "execution_count": 18,
   "metadata": {
    "collapsed": true
   },
   "outputs": [],
   "source": [
    "# turn off warning on version problem.\n",
    "pd.options.mode.chained_assignment = None  # default='warn'"
   ]
  },
  {
   "cell_type": "markdown",
   "metadata": {},
   "source": [
    "#### Extracting the desired time period for test redeemers:\n"
   ]
  },
  {
   "cell_type": "code",
   "execution_count": 26,
   "metadata": {
    "collapsed": false
   },
   "outputs": [],
   "source": [
    "df_testredm_splt = df_testredm[(df_testredm['week_date'] <= '02-09-2015') &\n",
    "                               ('11-24-2014'<=df_testredm['week_date'])]"
   ]
  },
  {
   "cell_type": "markdown",
   "metadata": {},
   "source": [
    "#### Extracting the desired time period for test non-redeemers:\n"
   ]
  },
  {
   "cell_type": "code",
   "execution_count": 27,
   "metadata": {
    "collapsed": true
   },
   "outputs": [],
   "source": [
    "df_testnonredm_splt = df_testnonredm[(df_testnonredm['week_date'] <= '02-09-2015') &\n",
    "                                     ('11-24-2014'<=df_testnonredm['week_date'])]"
   ]
  },
  {
   "cell_type": "markdown",
   "metadata": {},
   "source": [
    "#### Extracting the desired time period for controls:\n"
   ]
  },
  {
   "cell_type": "code",
   "execution_count": 28,
   "metadata": {
    "collapsed": true
   },
   "outputs": [],
   "source": [
    "df_control_splt = df_control[(df_control['week_date'] <= '02-09-2015') &\n",
    "                             ('11-24-2014'<=df_control['week_date'])]"
   ]
  },
  {
   "cell_type": "markdown",
   "metadata": {},
   "source": [
    "#### Creating a function that extracts the true numerical value of the dollar spent:\n"
   ]
  },
  {
   "cell_type": "code",
   "execution_count": 29,
   "metadata": {
    "collapsed": true
   },
   "outputs": [],
   "source": [
    "def spend_to_float(x):\n",
    "    y = x.split('\\t')[1]\n",
    "    z = ''.join(y.split(','))\n",
    "    return float(z)"
   ]
  },
  {
   "cell_type": "markdown",
   "metadata": {},
   "source": [
    "#### Converting the Spen column to true numerical dollar for all groups:\n"
   ]
  },
  {
   "cell_type": "code",
   "execution_count": 30,
   "metadata": {
    "collapsed": false
   },
   "outputs": [],
   "source": [
    "df_testredm_splt['spend_float'] = df_testredm_splt.Spend.apply(spend_to_float)\n",
    "df_testnonredm_splt['spend_float'] = df_testnonredm_splt.Spend.apply(spend_to_float)\n",
    "df_control_splt['spend_float'] = df_control_splt.Spend.apply(spend_to_float)"
   ]
  },
  {
   "cell_type": "markdown",
   "metadata": {},
   "source": [
    "#### I assume spend column shows the total spend for each row not spend per purchase."
   ]
  },
  {
   "cell_type": "markdown",
   "metadata": {},
   "source": [
    "#### Creating time series for the spend:\n"
   ]
  },
  {
   "cell_type": "code",
   "execution_count": 31,
   "metadata": {
    "collapsed": false
   },
   "outputs": [],
   "source": [
    "df_testredm_splt_ts = df_testredm_splt[['week_date','spend_float']]\n",
    "df_testnonredm_splt_ts = df_testnonredm_splt[['week_date','spend_float']]\n",
    "df_control_splt_ts = df_control_splt[['week_date','spend_float']]"
   ]
  },
  {
   "cell_type": "markdown",
   "metadata": {},
   "source": [
    "#### finding out the number of unique customers in each set:\n"
   ]
  },
  {
   "cell_type": "code",
   "execution_count": 32,
   "metadata": {
    "collapsed": true
   },
   "outputs": [],
   "source": [
    "n_testredm = df_testredm_splt_ts.index.unique().shape[0]\n",
    "n_testnonredm = df_testnonredm_splt_ts.index.unique().shape[0]\n",
    "n_control = df_control_splt_ts.index.unique().shape[0]"
   ]
  },
  {
   "cell_type": "markdown",
   "metadata": {},
   "source": [
    "#### Adding all the amounts spent:\n"
   ]
  },
  {
   "cell_type": "code",
   "execution_count": 33,
   "metadata": {
    "collapsed": false
   },
   "outputs": [],
   "source": [
    "testredm_spend = df_testredm_splt_ts.groupby('week_date').apply(np.sum)\n",
    "testnonredm_spend = df_testnonredm_splt_ts.groupby('week_date').apply(np.sum)\n",
    "control_spend = df_control_splt_ts.groupby('week_date').apply(np.sum)"
   ]
  },
  {
   "cell_type": "code",
   "execution_count": 34,
   "metadata": {
    "collapsed": false
   },
   "outputs": [
    {
     "data": {
      "image/png": "[encoded data removed]",
      "text/plain": [
       "<matplotlib.figure.Figure at 0x1177d3ef0>"
      ]
     },
     "metadata": {},
     "output_type": "display_data"
    }
   ],
   "source": [
    "fig, ax = plt.subplots(1)\n",
    "ax.plot(testredm_spend['spend_float'],marker='o',label='Test Redeem')\n",
    "ax.plot(testnonredm_spend['spend_float'],marker='o',label='Test Non-Redeem')\n",
    "ax.plot(control_spend['spend_float'],marker='o',label='Control')\n",
    "plt.ylabel('Total spending ($)')\n",
    "plt.legend(bbox_to_anchor=(1.05, 1), loc=2, borderaxespad=0.)\n",
    "fig.autofmt_xdate()"
   ]
  },
  {
   "cell_type": "markdown",
   "metadata": {},
   "source": [
    "#### Adding all the amounts spent and normalizing:\n"
   ]
  },
  {
   "cell_type": "code",
   "execution_count": 36,
   "metadata": {
    "collapsed": false
   },
   "outputs": [],
   "source": [
    "testredm_spend_per = df_testredm_splt_ts.groupby('week_date').apply(np.sum)/ n_testnonredm\n",
    "testnonredm_spend_per = df_testnonredm_splt_ts.groupby('week_date').apply(np.sum)/ n_testnonredm\n",
    "control_spend_per = df_control_splt_ts.groupby('week_date').apply(np.sum)/ n_control"
   ]
  },
  {
   "cell_type": "code",
   "execution_count": 37,
   "metadata": {
    "collapsed": false
   },
   "outputs": [
    {
     "data": {
      "image/png": "[encoded data removed]",
      "text/plain": [
       "<matplotlib.figure.Figure at 0x1179d7f98>"
      ]
     },
     "metadata": {},
     "output_type": "display_data"
    }
   ],
   "source": [
    "fig, ax = plt.subplots(1)\n",
    "ax.plot(testredm_spend_per['spend_float'],marker='o',label='Test Redeem')\n",
    "ax.plot(testnonredm_spend_per['spend_float'],marker='o',label='Test Non-Redeem')\n",
    "ax.plot(control_spend_per['spend_float'],marker='o',label='Control')\n",
    "plt.ylabel('Total spending per customer ($)')\n",
    "plt.legend(bbox_to_anchor=(1.05, 1), loc=2, borderaxespad=0.)\n",
    "fig.autofmt_xdate()"
   ]
  },
  {
   "cell_type": "markdown",
   "metadata": {},
   "source": [
    "### 3. What is the incremental spend in the six weeks after the coupons were sent (additional spend above what we would have expected had no coupon been sent out) for the total Test group (Redeemers and Non-Redeemers) vs. Control? Please express your answer in absolute ($) and % terms. You can use Excel or any other tool of your choice (e.g. R).\t"
   ]
  },
  {
   "cell_type": "markdown",
   "metadata": {},
   "source": [
    "#### Exctracting the test group after coupons were sent:\n"
   ]
  },
  {
   "cell_type": "code",
   "execution_count": 44,
   "metadata": {
    "collapsed": true
   },
   "outputs": [],
   "source": [
    "df_test_after = df[(df['Group']== 'Test') &\n",
    "                   (df['week_date'] <= '02-16-2015') &\n",
    "                   (df['week_date'] >= '01-05-2015')]"
   ]
  },
  {
   "cell_type": "markdown",
   "metadata": {},
   "source": [
    "#### Exctracting the test group before coupons were sent:\n"
   ]
  },
  {
   "cell_type": "code",
   "execution_count": 45,
   "metadata": {
    "collapsed": true
   },
   "outputs": [],
   "source": [
    "df_test_before = df[(df['Group']== 'Test') &\n",
    "                   (df['week_date'] <= '01-05-2015')]"
   ]
  },
  {
   "cell_type": "markdown",
   "metadata": {},
   "source": [
    "#### Extracting customers who did spend:\n"
   ]
  },
  {
   "cell_type": "code",
   "execution_count": 46,
   "metadata": {
    "collapsed": false
   },
   "outputs": [],
   "source": [
    "df_test_before = df_test_before[df_test_before['Spend'] != ' $\\t-   ']"
   ]
  },
  {
   "cell_type": "markdown",
   "metadata": {},
   "source": [
    "#### Adding all the spend for test group before and after:\n"
   ]
  },
  {
   "cell_type": "code",
   "execution_count": 47,
   "metadata": {
    "collapsed": false
   },
   "outputs": [],
   "source": [
    "total_test_spend_after = df_test_after.Spend.apply(spend_to_float).sum()\n",
    "total_test_spend_before = df_test_before.Spend.apply(spend_to_float).sum()"
   ]
  },
  {
   "cell_type": "markdown",
   "metadata": {},
   "source": [
    "#### subtracting total test spend before and after coupons were sent:\n"
   ]
  },
  {
   "cell_type": "code",
   "execution_count": 48,
   "metadata": {
    "collapsed": true
   },
   "outputs": [],
   "source": [
    "increm_test_spend = total_test_spend_after - total_test_spend_before"
   ]
  },
  {
   "cell_type": "markdown",
   "metadata": {},
   "source": [
    "#### Exctracting the control group after coupons were sent:\n"
   ]
  },
  {
   "cell_type": "code",
   "execution_count": 49,
   "metadata": {
    "collapsed": true
   },
   "outputs": [],
   "source": [
    "df_control_after = df[(df['Group']== 'Control') &\n",
    "                      (df['week_date'] <= '02-16-2015') &\n",
    "                      (df['week_date'] >= '01-05-2015')]"
   ]
  },
  {
   "cell_type": "markdown",
   "metadata": {},
   "source": [
    "#### Exctracting the control group before coupons were sent:\n"
   ]
  },
  {
   "cell_type": "code",
   "execution_count": 50,
   "metadata": {
    "collapsed": true
   },
   "outputs": [],
   "source": [
    "df_control_before = df[(df['Group']== 'Control') &\n",
    "                      (df['week_date'] <= '01-05-2015')]"
   ]
  },
  {
   "cell_type": "markdown",
   "metadata": {},
   "source": [
    "#### Extracting customers who did spend:\n"
   ]
  },
  {
   "cell_type": "code",
   "execution_count": 51,
   "metadata": {
    "collapsed": true
   },
   "outputs": [],
   "source": [
    "df_control_before = df_control_before[df_control_before['Spend'] != ' $\\t-   ']"
   ]
  },
  {
   "cell_type": "markdown",
   "metadata": {},
   "source": [
    "#### Adding all the spend for control group before and after:\n"
   ]
  },
  {
   "cell_type": "code",
   "execution_count": 52,
   "metadata": {
    "collapsed": true
   },
   "outputs": [],
   "source": [
    "total_control_spend_after = df_control_after.Spend.apply(spend_to_float).sum()\n",
    "total_control_spend_before = df_control_before.Spend.apply(spend_to_float).sum()"
   ]
  },
  {
   "cell_type": "markdown",
   "metadata": {},
   "source": [
    "#### subtracting total control spend before and after coupons were sent:\n"
   ]
  },
  {
   "cell_type": "code",
   "execution_count": 53,
   "metadata": {
    "collapsed": false
   },
   "outputs": [],
   "source": [
    "increm_control_spend = total_control_spend_after - total_control_spend_before"
   ]
  },
  {
   "cell_type": "code",
   "execution_count": 54,
   "metadata": {
    "collapsed": false
   },
   "outputs": [
    {
     "name": "stdout",
     "output_type": "stream",
     "text": [
      "Incremental spend in six weeks after coupons were sent out for test group:\n",
      " $ -3384779.240000056\n",
      "In fact we see a reduction in total spend.\n"
     ]
    }
   ],
   "source": [
    "print('Incremental spend in six weeks after coupons were sent out for test group:\\n','$',\n",
    "      increm_test_spend)\n",
    "print('In fact we see a reduction in total spend.')"
   ]
  },
  {
   "cell_type": "code",
   "execution_count": 55,
   "metadata": {
    "collapsed": false
   },
   "outputs": [
    {
     "name": "stdout",
     "output_type": "stream",
     "text": [
      "Incremental spend in six weeks after coupons were sent out for control group:\n",
      " $ -936454.5699999986\n",
      "In fact we see a reduction in total spend.\n"
     ]
    }
   ],
   "source": [
    "print('Incremental spend in six weeks after coupons were sent out for control group:\\n','$',\n",
    "      increm_control_spend)\n",
    "print('In fact we see a reduction in total spend.')"
   ]
  },
  {
   "cell_type": "code",
   "execution_count": 56,
   "metadata": {
    "collapsed": false
   },
   "outputs": [
    {
     "name": "stdout",
     "output_type": "stream",
     "text": [
      "Comparing the test and control incremental spend:\n",
      "2.614461767216387\n"
     ]
    }
   ],
   "source": [
    "print('Comparing the test and control incremental spend:')\n",
    "print((increm_test_spend - increm_control_spend)/ increm_control_spend)"
   ]
  },
  {
   "cell_type": "markdown",
   "metadata": {},
   "source": [
    "The test group shows 2.6 times higher in reduction in spend. However it makes more sense to measure the above values per customer:"
   ]
  },
  {
   "cell_type": "markdown",
   "metadata": {},
   "source": [
    "#### number of test customers after:\n"
   ]
  },
  {
   "cell_type": "code",
   "execution_count": 57,
   "metadata": {
    "collapsed": true
   },
   "outputs": [],
   "source": [
    "n_test_after = df_test_after.index.unique().shape[0]"
   ]
  },
  {
   "cell_type": "markdown",
   "metadata": {},
   "source": [
    "#### number of test customers before:\n"
   ]
  },
  {
   "cell_type": "code",
   "execution_count": 58,
   "metadata": {
    "collapsed": true
   },
   "outputs": [],
   "source": [
    "n_test_before = df_test_before.index.unique().shape[0]"
   ]
  },
  {
   "cell_type": "code",
   "execution_count": 60,
   "metadata": {
    "collapsed": false
   },
   "outputs": [
    {
     "name": "stdout",
     "output_type": "stream",
     "text": [
      "total increment per test customer:\n",
      "$ -807.7031479393006\n",
      "percentage: -55.796212128011156 %\n"
     ]
    }
   ],
   "source": [
    "print('total increment per test customer:')\n",
    "r_test_after = total_test_spend_after/ n_test_after\n",
    "r_test_before = total_test_spend_before/ n_test_before\n",
    "print('$',r_test_after - r_test_before)\n",
    "print('percentage:',100*(r_test_after - r_test_before)/(r_test_before)\n",
    "     ,'%')"
   ]
  },
  {
   "cell_type": "markdown",
   "metadata": {},
   "source": [
    "#### number of control customers after:\n"
   ]
  },
  {
   "cell_type": "code",
   "execution_count": 62,
   "metadata": {
    "collapsed": true
   },
   "outputs": [],
   "source": [
    "n_control_after = df_control_after.index.unique().shape[0]"
   ]
  },
  {
   "cell_type": "markdown",
   "metadata": {},
   "source": [
    "#### number of control customers before:\n"
   ]
  },
  {
   "cell_type": "code",
   "execution_count": 63,
   "metadata": {
    "collapsed": false
   },
   "outputs": [],
   "source": [
    "n_control_before = df_control_before.index.unique().shape[0]"
   ]
  },
  {
   "cell_type": "code",
   "execution_count": 64,
   "metadata": {
    "collapsed": false
   },
   "outputs": [
    {
     "name": "stdout",
     "output_type": "stream",
     "text": [
      "total increment per control customer:\n",
      "$ -931.9504326689521\n",
      "percentage: -64.84797583885303 %\n"
     ]
    }
   ],
   "source": [
    "print('total increment per control customer:')\n",
    "r_control_after = total_control_spend_after/ n_control_after\n",
    "r_control_before = total_control_spend_before/ n_control_before\n",
    "print('$',r_control_after - r_control_before)\n",
    "print('percentage:',100*(r_control_after - r_control_before)/(r_control_before)\n",
    "     ,'%')"
   ]
  },
  {
   "cell_type": "markdown",
   "metadata": {},
   "source": [
    "We see that the control customer shows more reduction in spend after coupons were sent out (64.8% vs. 55.8%)."
   ]
  },
  {
   "cell_type": "markdown",
   "metadata": {},
   "source": [
    "### 4. We calculate revenue as Revenue = Spend x Take Rate. Assuming that Take Rate is 10% and that the cost of the coupon campaign is equal to the value of a coupon multiplied by the number of coupons redeemed, calculate the ROI of this campaign. "
   ]
  },
  {
   "cell_type": "markdown",
   "metadata": {},
   "source": [
    "#### Exctracting the test redeemer group after coupons were sent:\n"
   ]
  },
  {
   "cell_type": "code",
   "execution_count": 66,
   "metadata": {
    "collapsed": true
   },
   "outputs": [],
   "source": [
    "df_test_after = df[(df['Group']== 'Test') &\n",
    "                   (df['week_date'] >= '01-05-2015')]"
   ]
  },
  {
   "cell_type": "markdown",
   "metadata": {},
   "source": [
    "#### Exctracting the test non-redeemer group after coupons were sent:\n"
   ]
  },
  {
   "cell_type": "code",
   "execution_count": 78,
   "metadata": {
    "collapsed": true
   },
   "outputs": [],
   "source": [
    "df_control_after = df[(df['Group']== 'Control') &\n",
    "                   (df['week_date'] >= '01-05-2015')]"
   ]
  },
  {
   "cell_type": "markdown",
   "metadata": {},
   "source": [
    "#### Adding the spend of all test group after:\n"
   ]
  },
  {
   "cell_type": "code",
   "execution_count": 79,
   "metadata": {
    "collapsed": false
   },
   "outputs": [],
   "source": [
    "total_test_spent = df_test_after.Spend.apply(spend_to_float).sum()"
   ]
  },
  {
   "cell_type": "markdown",
   "metadata": {},
   "source": [
    "#### Adding the spend of all control group after:\n"
   ]
  },
  {
   "cell_type": "code",
   "execution_count": 80,
   "metadata": {
    "collapsed": true
   },
   "outputs": [],
   "source": [
    "total_control_spent = df_control_after.Spend.apply(spend_to_float).sum()"
   ]
  },
  {
   "cell_type": "markdown",
   "metadata": {},
   "source": [
    "#### total number of redeemers:\n"
   ]
  },
  {
   "cell_type": "code",
   "execution_count": 81,
   "metadata": {
    "collapsed": false
   },
   "outputs": [],
   "source": [
    "n_redeemers = df[(df['Group'] == 'Test') &\n",
    "                (df['Redeemer'] == '1')].shape[0]"
   ]
  },
  {
   "cell_type": "code",
   "execution_count": 82,
   "metadata": {
    "collapsed": false
   },
   "outputs": [
    {
     "name": "stdout",
     "output_type": "stream",
     "text": [
      "total revenue difference from control group:\n",
      "$ 85259.11300000019\n"
     ]
    }
   ],
   "source": [
    "print('total revenue difference from control group:')\n",
    "print('$',total_test_spent*0.1 - 10*n_redeemers - total_control_spent*0.1)"
   ]
  },
  {
   "cell_type": "markdown",
   "metadata": {},
   "source": [
    "#### However it makes more sense to draw conclusions per customer (adjust to the number of customers involved in each group):"
   ]
  },
  {
   "cell_type": "code",
   "execution_count": 83,
   "metadata": {
    "collapsed": false
   },
   "outputs": [
    {
     "name": "stdout",
     "output_type": "stream",
     "text": [
      "Adjusted ROI:\n",
      "37.57709481839164 %\n"
     ]
    }
   ],
   "source": [
    "print('Adjusted ROI:')\n",
    "print(100*((total_test_spent*0.1/ n_test_after) - 10 - (total_control_spent*0.1/ n_control_after))/(10),\n",
    "     '%')"
   ]
  }
 ],
 "metadata": {
  "anaconda-cloud": {},
  "kernelspec": {
   "display_name": "Python [Root]",
   "language": "python",
   "name": "Python [Root]"
  },
  "language_info": {
   "codemirror_mode": {
    "name": "ipython",
    "version": 3
   },
   "file_extension": ".py",
   "mimetype": "text/x-python",
   "name": "python",
   "nbconvert_exporter": "python",
   "pygments_lexer": "ipython3",
   "version": "3.5.2"
  }
 },
 "nbformat": 4,
 "nbformat_minor": 2
}
